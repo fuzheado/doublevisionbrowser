{
 "cells": [
  {
   "cell_type": "code",
   "execution_count": 5,
   "id": "7326410c-aff2-4ba9-9b4e-4e44ed771ee9",
   "metadata": {},
   "outputs": [
    {
     "data": {
      "application/vnd.jupyter.widget-view+json": {
       "model_id": "bee6c56980d84141a622871d0fa0d760",
       "version_major": 2,
       "version_minor": 0
      },
      "text/plain": [
       "Text(value='', description='Identifiers:')"
      ]
     },
     "metadata": {},
     "output_type": "display_data"
    },
    {
     "data": {
      "application/vnd.jupyter.widget-view+json": {
       "model_id": "da90aed474a34f8181d575c7c9fecc1f",
       "version_major": 2,
       "version_minor": 0
      },
      "text/plain": [
       "Button(description='Populate list', style=ButtonStyle())"
      ]
     },
     "metadata": {},
     "output_type": "display_data"
    },
    {
     "data": {
      "application/vnd.jupyter.widget-view+json": {
       "model_id": "32bcb730cc4e4161a53c8380d1317b64",
       "version_major": 2,
       "version_minor": 0
      },
      "text/plain": [
       "Select(description='Object ID:', options=(), value=None)"
      ]
     },
     "metadata": {},
     "output_type": "display_data"
    },
    {
     "data": {
      "application/vnd.jupyter.widget-view+json": {
       "model_id": "690409e245f74ea892ca713035c0cf0e",
       "version_major": 2,
       "version_minor": 0
      },
      "text/plain": [
       "Output()"
      ]
     },
     "metadata": {},
     "output_type": "display_data"
    }
   ],
   "source": [
    "import requests\n",
    "import ipywidgets as widgets\n",
    "from IPython.display import display, HTML\n",
    "\n",
    "def on_button_clicked(b):\n",
    "    global identifiers\n",
    "    identifiers = textbox.value.split(',')\n",
    "    listbox.options = identifiers\n",
    "\n",
    "def on_list_item_selected(change):\n",
    "    objectID = change['new']\n",
    "    url = f\"https://collectionapi.metmuseum.org/public/collection/v1/objects/{objectID}\"\n",
    "    response = requests.get(url)\n",
    "    data = response.json()\n",
    "    title = data['title']\n",
    "    department = data['department']\n",
    "    primaryImage = data['primaryImage']\n",
    "    with outarea: # Added after ChatGPT generated code \n",
    "        display(HTML(f\"<p><b>Object ID:</b> {objectID}</p>\"))\n",
    "        display(HTML(f\"<p><b>Title:</b> {title}</p>\"))\n",
    "        display(HTML(f\"<p><b>Department:</b> {department}</p>\"))\n",
    "        display(HTML(f\"<img src='{primaryImage}'>\"))\n",
    "\n",
    "textbox = widgets.Text(description=\"Identifiers:\")\n",
    "button = widgets.Button(description=\"Populate list\")\n",
    "button.on_click(on_button_clicked)\n",
    "listbox = widgets.Select(options=[], description=\"Object ID:\")\n",
    "listbox.observe(on_list_item_selected, names='value')\n",
    "outarea = widgets.Output() # Added after ChatGPT generated code\n",
    "\n",
    "display(textbox)\n",
    "display(button)\n",
    "display(listbox)\n",
    "display(outarea) # Added after ChatGPT generated code"
   ]
  }
 ],
 "metadata": {
  "kernelspec": {
   "display_name": "Python 3 (ipykernel)",
   "language": "python",
   "name": "python3"
  },
  "language_info": {
   "codemirror_mode": {
    "name": "ipython",
    "version": 3
   },
   "file_extension": ".py",
   "mimetype": "text/x-python",
   "name": "python",
   "nbconvert_exporter": "python",
   "pygments_lexer": "ipython3",
   "version": "3.10.6"
  }
 },
 "nbformat": 4,
 "nbformat_minor": 5
}
